{
  "nbformat": 4,
  "nbformat_minor": 0,
  "metadata": {
    "colab": {
      "provenance": []
    },
    "kernelspec": {
      "name": "python3",
      "display_name": "Python 3"
    },
    "language_info": {
      "name": "python"
    }
  },
  "cells": [
    {
      "cell_type": "code",
      "execution_count": 1,
      "metadata": {
        "colab": {
          "base_uri": "https://localhost:8080/"
        },
        "id": "Mx2S21mrIonv",
        "outputId": "64377133-4670-439b-9237-ee4d67cc37be"
      },
      "outputs": [
        {
          "output_type": "stream",
          "name": "stdout",
          "text": [
            "Requirement already satisfied: opencv-python-headless in /usr/local/lib/python3.10/dist-packages (4.10.0.84)\n",
            "Requirement already satisfied: numpy>=1.21.2 in /usr/local/lib/python3.10/dist-packages (from opencv-python-headless) (1.26.4)\n",
            "Requirement already satisfied: scikit-image in /usr/local/lib/python3.10/dist-packages (0.24.0)\n",
            "Requirement already satisfied: numpy>=1.23 in /usr/local/lib/python3.10/dist-packages (from scikit-image) (1.26.4)\n",
            "Requirement already satisfied: scipy>=1.9 in /usr/local/lib/python3.10/dist-packages (from scikit-image) (1.13.1)\n",
            "Requirement already satisfied: networkx>=2.8 in /usr/local/lib/python3.10/dist-packages (from scikit-image) (3.4.2)\n",
            "Requirement already satisfied: pillow>=9.1 in /usr/local/lib/python3.10/dist-packages (from scikit-image) (11.0.0)\n",
            "Requirement already satisfied: imageio>=2.33 in /usr/local/lib/python3.10/dist-packages (from scikit-image) (2.36.0)\n",
            "Requirement already satisfied: tifffile>=2022.8.12 in /usr/local/lib/python3.10/dist-packages (from scikit-image) (2024.9.20)\n",
            "Requirement already satisfied: packaging>=21 in /usr/local/lib/python3.10/dist-packages (from scikit-image) (24.2)\n",
            "Requirement already satisfied: lazy-loader>=0.4 in /usr/local/lib/python3.10/dist-packages (from scikit-image) (0.4)\n"
          ]
        }
      ],
      "source": [
        "# https://www.kaggle.com/datasets/jawadali1045/20k-multi-class-crop-disease-images\n",
        "!pip install opencv-python-headless\n",
        "!pip install scikit-image\n",
        "\n",
        "import numpy as np\n",
        "import pandas as pd\n",
        "import cv2\n",
        "import os\n",
        "import glob\n",
        "from sklearn.model_selection import train_test_split\n",
        "from sklearn.svm import SVC\n",
        "from sklearn.metrics import classification_report, confusion_matrix\n",
        "from sklearn.preprocessing import LabelEncoder\n",
        "from sklearn.pipeline import make_pipeline\n",
        "from skimage import feature\n",
        "import matplotlib.pyplot as plt\n"
      ]
    },
    {
      "cell_type": "code",
      "source": [
        "healthy_path = '/content/dataset/healthy/*.png'\n",
        "diseased_path = '/content/dataset/diseased/*.png'\n",
        "\n",
        "def load_images_from_folder(folder, label):\n",
        "    images = []\n",
        "    labels = []\n",
        "    for filename in glob.glob(folder):\n",
        "        img = cv2.imread(filename)\n",
        "        img = cv2.resize(img, (64, 64))  # Resize to a smaller size\n",
        "        if img is not None:\n",
        "            images.append(img)\n",
        "            labels.append(label)\n",
        "    return images, labels\n",
        "\n",
        "healthy_images, healthy_labels = load_images_from_folder(healthy_path, 'healthy')\n",
        "diseased_images, diseased_labels = load_images_from_folder(diseased_path, 'diseased')\n",
        "\n",
        "images = np.array(healthy_images + diseased_images)\n",
        "labels = np.array(healthy_labels + diseased_labels)\n",
        "\n",
        "unique_classes, counts = np.unique(labels, return_counts=True)\n",
        "class_distribution = dict(zip(unique_classes, counts))\n",
        "print(\"Class distribution:\", class_distribution)\n"
      ],
      "metadata": {
        "id": "HYMOnplQIwdj"
      },
      "execution_count": null,
      "outputs": []
    },
    {
      "cell_type": "code",
      "source": [
        "def extract_hog_features(images):\n",
        "    hog_features = []\n",
        "    for image in images:\n",
        "        gray_image = cv2.cvtColor(image, cv2.COLOR_BGR2GRAY)\n",
        "        features = feature.hog(gray_image, pixels_per_cell=(8, 8),\n",
        "                               cells_per_block=(2, 2), visualize=False)\n",
        "        hog_features.append(features)\n",
        "    return np.array(hog_features)\n",
        "\n",
        "X = extract_hog_features(images)\n",
        "y = labels\n"
      ],
      "metadata": {
        "id": "Eat5kFHKI3Kg"
      },
      "execution_count": null,
      "outputs": []
    },
    {
      "cell_type": "code",
      "source": [
        "unique_classes, counts = np.unique(labels, return_counts=True)\n",
        "class_distribution = dict(zip(unique_classes, counts))\n",
        "print(\"Class distribution:\", class_distribution)\n"
      ],
      "metadata": {
        "id": "d-h88DqpJD5A"
      },
      "execution_count": null,
      "outputs": []
    },
    {
      "cell_type": "code",
      "source": [
        "healthy_images, healthy_labels = load_images_from_folder(healthy_path, 'healthy')\n",
        "diseased_images, diseased_labels = load_images_from_folder(diseased_path, 'diseased')\n",
        "\n",
        "print(f\"Number of healthy images: {len(healthy_images)}\")\n",
        "print(f\"Number of diseased images: {len(diseased_images)}\")\n",
        "\n",
        "images = np.array(healthy_images + diseased_images)\n",
        "labels = np.array(healthy_labels + diseased_labels)\n",
        "\n",
        "print(f\"Total images loaded: {len(images)}\")\n"
      ],
      "metadata": {
        "id": "f7FY4vtqJEkj"
      },
      "execution_count": null,
      "outputs": []
    },
    {
      "cell_type": "code",
      "source": [
        "import matplotlib.pyplot as plt\n",
        "\n",
        "def load_images_from_folder(folder, label):\n",
        "    images = []\n",
        "    labels = []\n",
        "    for filename in glob.glob(folder):\n",
        "        img = cv2.imread(filename)\n",
        "        if img is not None:\n",
        "            img = cv2.resize(img, (64, 64))\n",
        "            images.append(img)\n",
        "            labels.append(label)\n",
        "    return images, labels\n",
        "\n",
        "healthy_images, healthy_labels = load_images_from_folder(healthy_path, 'healthy')\n",
        "diseased_images, diseased_labels = load_images_from_folder(diseased_path, 'diseased')\n",
        "\n",
        "print(f\"Number of healthy images: {len(healthy_images)}\")\n",
        "print(f\"Number of diseased images: {len(diseased_images)}\")\n",
        "\n",
        "images = np.array(healthy_images + diseased_images)\n",
        "labels = np.array(healthy_labels + diseased_labels)\n",
        "\n",
        "print(f\"Total images loaded: {len(images)}\")\n",
        "\n",
        "if len(images) > 0:\n",
        "    plt.figure(figsize=(10, 5))\n",
        "    for i in range(min(5, len(images))):\n",
        "        plt.subplot(1, 5, i + 1)\n",
        "        plt.imshow(cv2.cvtColor(images[i], cv2.COLOR_BGR2RGB))\n",
        "        plt.axis('off')\n",
        "    plt.show()\n",
        "else:\n",
        "    print(\"No images were loaded. Please check the dataset paths.\")\n"
      ],
      "metadata": {
        "id": "EjXvflaQJJD2"
      },
      "execution_count": null,
      "outputs": []
    },
    {
      "cell_type": "code",
      "source": [
        "# Encode labels: healthy as 1, diseased as 0\n",
        "label_encoder = LabelEncoder()\n",
        "y_encoded = label_encoder.fit_transform(y)\n",
        "\n",
        "X_train, X_test, y_train, y_test = train_test_split(X, y_encoded, test_size=0.2, random_state=42, stratify=y_encoded)\n",
        "\n",
        "svm_model = make_pipeline(SVC(kernel='linear'))\n",
        "svm_model.fit(X_train, y_train)\n",
        "\n",
        "y_pred = svm_model.predict(X_test)\n",
        "\n",
        "print(classification_report(y_test, y_pred, target_names=label_encoder.classes_))\n",
        "\n",
        "def predict_image(image):\n",
        "    image_resized = cv2.resize(image, (64, 64))\n",
        "    features = extract_hog_features([image_resized])\n",
        "    prediction = svm_model.predict(features)\n",
        "    return prediction[0]\n",
        "\n",
        "new_image_path = '/content/dataset/healthy/h1.png'\n",
        "new_image = cv2.imread(new_image_path)\n",
        "\n",
        "if new_image is not None:\n",
        "    result = predict_image(new_image)\n",
        "    print(\"Predicted result for the new image:\", result)\n",
        "else:\n",
        "    print(\"Could not load the image. Please check the path.\")"
      ],
      "metadata": {
        "id": "oq7pY3ZhJT3W"
      },
      "execution_count": null,
      "outputs": []
    },
    {
      "cell_type": "code",
      "source": [
        "new_image_path = '/content/dataset/diseased/d2.png'\n",
        "new_image = cv2.imread(new_image_path)\n",
        "\n",
        "if new_image is not None:\n",
        "    result = predict_image(new_image)\n",
        "    print(\"Predicted result for the new image:\", result)\n",
        "else:\n",
        "    print(\"Could not load the image. Please check the path.\")"
      ],
      "metadata": {
        "id": "NDIvXtvRJWgQ"
      },
      "execution_count": null,
      "outputs": []
    },
    {
      "cell_type": "code",
      "source": [],
      "metadata": {
        "id": "fdU4myuiJY5K"
      },
      "execution_count": null,
      "outputs": []
    }
  ]
}